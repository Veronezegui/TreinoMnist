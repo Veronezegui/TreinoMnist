{
  "nbformat": 4,
  "nbformat_minor": 0,
  "metadata": {
    "colab": {
      "provenance": [],
      "collapsed_sections": []
    },
    "kernelspec": {
      "name": "python3",
      "display_name": "Python 3"
    },
    "language_info": {
      "name": "python"
    }
  },
  "cells": [
    {
      "cell_type": "code",
      "execution_count": 45,
      "metadata": {
        "id": "OH_v-2moTMm7"
      },
      "outputs": [],
      "source": [
        "# Alunos: Guilherme da Silva Veroneze, Hudson Loyo Guimarães e Yago Henrique Nascimento Moreira Rosestolato.\n",
        "%matplotlib inline"
      ]
    },
    {
      "cell_type": "code",
      "source": [
        "import torch\n",
        "import torchvision\n",
        "import torchvision.transforms as transforms"
      ],
      "metadata": {
        "id": "pFwiNZjBTOhC"
      },
      "execution_count": 46,
      "outputs": []
    },
    {
      "cell_type": "code",
      "source": [
        "n_epochs = 3\n",
        "batch_size_train = 128\n",
        "batch_size_test = 1000\n",
        "learning_rate = 0.01\n",
        "momentum = 0.5\n",
        "log_interval = 10\n",
        "\n",
        "random_seed = 1\n",
        "torch.backends.cudnn.enabled = False\n",
        "torch.manual_seed(random_seed)"
      ],
      "metadata": {
        "colab": {
          "base_uri": "https://localhost:8080/"
        },
        "id": "SWjBQJLATQAZ",
        "outputId": "7c0090f2-cb5d-4b75-ff96-0ce77064cd08"
      },
      "execution_count": 85,
      "outputs": [
        {
          "output_type": "execute_result",
          "data": {
            "text/plain": [
              "<torch._C.Generator at 0x7faf43b9d910>"
            ]
          },
          "metadata": {},
          "execution_count": 85
        }
      ]
    },
    {
      "cell_type": "code",
      "source": [
        "train_loader = torch.utils.data.DataLoader(\n",
        "  torchvision.datasets.MNIST('/files/', train=True, download=True,\n",
        "                             transform=torchvision.transforms.Compose([\n",
        "                               torchvision.transforms.ToTensor(),\n",
        "                               torchvision.transforms.Normalize(\n",
        "                                 (0.1307,), (0.3081,))\n",
        "                             ])),\n",
        "  batch_size=batch_size_train, shuffle=True)\n",
        "\n",
        "\n",
        "test_loader = torch.utils.data.DataLoader(\n",
        "  torchvision.datasets.MNIST('/files/', train=False, download=True,\n",
        "                             transform=torchvision.transforms.Compose([\n",
        "                               torchvision.transforms.ToTensor(),\n",
        "                               torchvision.transforms.Normalize(\n",
        "                                 (0.1307,), (0.3081,))\n",
        "                             ])),\n",
        "  batch_size=batch_size_test, shuffle=True)"
      ],
      "metadata": {
        "id": "s6GwLhARTR7J"
      },
      "execution_count": 86,
      "outputs": []
    },
    {
      "cell_type": "code",
      "source": [
        "examples = enumerate(test_loader)\n",
        "batch_idx, (example_data, example_targets) = next(examples)"
      ],
      "metadata": {
        "id": "qtF_CkHiTUDp"
      },
      "execution_count": 87,
      "outputs": []
    },
    {
      "cell_type": "code",
      "source": [
        "example_data.shape"
      ],
      "metadata": {
        "colab": {
          "base_uri": "https://localhost:8080/"
        },
        "id": "9KTQY3CITVaR",
        "outputId": "30d0a3b3-c56d-4877-c90f-d83536a1b244"
      },
      "execution_count": 88,
      "outputs": [
        {
          "output_type": "execute_result",
          "data": {
            "text/plain": [
              "torch.Size([1000, 1, 28, 28])"
            ]
          },
          "metadata": {},
          "execution_count": 88
        }
      ]
    },
    {
      "cell_type": "code",
      "source": [
        "from matplotlib import pyplot"
      ],
      "metadata": {
        "id": "Q2GDCLPPTXFs"
      },
      "execution_count": 89,
      "outputs": []
    },
    {
      "cell_type": "code",
      "source": [
        "import matplotlib.pyplot as plt\n",
        "\n",
        "fig = plt.figure()\n",
        "for i in range(6):\n",
        "  plt.subplot(2,3,i+1)\n",
        "  plt.tight_layout()\n",
        "  plt.imshow(example_data[i][0], cmap='gray', interpolation='none')\n",
        "  plt.title(\"Ground Truth: {}\".format(example_targets[i]))\n",
        "  plt.xticks([])\n",
        "  plt.yticks([])\n",
        "fig"
      ],
      "metadata": {
        "colab": {
          "base_uri": "https://localhost:8080/",
          "height": 551
        },
        "id": "mVN8rmBWTZA4",
        "outputId": "9fbf707c-333a-4e75-a6f4-f9f229180c4d"
      },
      "execution_count": 90,
      "outputs": [
        {
          "output_type": "execute_result",
          "data": {
            "text/plain": [
              "<Figure size 432x288 with 6 Axes>"
            ],
            "image/png": "[encoded data removed]"
          },
          "metadata": {},
          "execution_count": 90
        },
        {
          "output_type": "display_data",
          "data": {
            "text/plain": [
              "<Figure size 432x288 with 6 Axes>"
            ],
            "image/png": "[encoded data removed]"
          },
          "metadata": {}
        }
      ]
    },
    {
      "cell_type": "code",
      "source": [
        "import torch.nn as nn\n",
        "import torch.nn.functional as F\n",
        "\n",
        "class Net(nn.Module):\n",
        "    def __init__(self):\n",
        "        super(Net, self).__init__()\n",
        "        self.conv1 = nn.Conv2d(1, 10, kernel_size=5)\n",
        "        self.conv2 = nn.Conv2d(10, 20, kernel_size=5)\n",
        "        self.conv2_drop = nn.Dropout2d()\n",
        "        self.fc1 = nn.Linear(320, 50)\n",
        "        self.fc2 = nn.Linear(50, 10)\n",
        "\n",
        "    def forward(self, x):\n",
        "        x = F.relu(F.max_pool2d(self.conv1(x), 2))\n",
        "        x = F.relu(F.max_pool2d(self.conv2_drop(self.conv2(x)), 2))\n",
        "        x = x.view(-1, 320)\n",
        "        x = F.relu(self.fc1(x))\n",
        "        x = F.dropout(x, training=self.training)\n",
        "        x = self.fc2(x)\n",
        "        return F.log_softmax(x)"
      ],
      "metadata": {
        "id": "gi4yXUg5Tb28"
      },
      "execution_count": 91,
      "outputs": []
    },
    {
      "cell_type": "code",
      "source": [
        "import torch.optim as optim\n",
        "\n",
        "network = Net()\n",
        "optimizer = optim.SGD(network.parameters(), lr=learning_rate,\n",
        "                      momentum=momentum)"
      ],
      "metadata": {
        "id": "Dpdt1r_ETdrx"
      },
      "execution_count": 92,
      "outputs": []
    },
    {
      "cell_type": "code",
      "source": [],
      "metadata": {
        "id": "FJ1O7f_8TfnF"
      },
      "execution_count": 14,
      "outputs": []
    },
    {
      "cell_type": "code",
      "source": [
        "train_losses = []\n",
        "train_counter = []\n",
        "test_losses = []\n",
        "test_counter = [i*len(train_loader.dataset) for i in range(n_epochs + 1)]"
      ],
      "metadata": {
        "id": "tu_flmEQThB4"
      },
      "execution_count": 93,
      "outputs": []
    },
    {
      "cell_type": "code",
      "source": [
        "def train(epoch):\n",
        "  network.train()\n",
        "  for batch_idx, (data, target) in enumerate(train_loader):\n",
        "    optimizer.zero_grad()\n",
        "    output = network(data)\n",
        "    loss = F.nll_loss(output, target)\n",
        "    loss.backward()\n",
        "    optimizer.step()\n",
        "    if batch_idx % log_interval == 0:\n",
        "      print('Train Epoch: {} [{}/{} ({:.0f}%)]\\tLoss: {:.6f}'.format(\n",
        "        epoch, batch_idx * len(data), len(train_loader.dataset),\n",
        "        100. * batch_idx / len(train_loader), loss.item()))\n",
        "      train_losses.append(loss.item())\n",
        "      train_counter.append(\n",
        "        (batch_idx*64) + ((epoch-1)*len(train_loader.dataset)))\n",
        "      torch.save(network.state_dict(), '/model.pth')\n",
        "      torch.save(optimizer.state_dict(), '/optimizer.pth')"
      ],
      "metadata": {
        "id": "5vyTl5weTizS"
      },
      "execution_count": 94,
      "outputs": []
    },
    {
      "cell_type": "code",
      "source": [
        "def test():\n",
        "  network.eval()\n",
        "  test_loss = 0\n",
        "  correct = 0\n",
        "  with torch.no_grad():\n",
        "    for data, target in test_loader:\n",
        "      output = network(data)\n",
        "      test_loss += F.nll_loss(output, target, size_average=False).item()\n",
        "      pred = output.data.max(1, keepdim=True)[1]\n",
        "      correct += pred.eq(target.data.view_as(pred)).sum()\n",
        "  test_loss /= len(test_loader.dataset)\n",
        "  test_losses.append(test_loss)\n",
        "  print('\\nTest set: Avg. loss: {:.4f}, Accuracy: {}/{} ({:.0f}%)\\n'.format(\n",
        "    test_loss, correct, len(test_loader.dataset),\n",
        "    100. * correct / len(test_loader.dataset)))"
      ],
      "metadata": {
        "id": "8RoHWCE-Tkl6"
      },
      "execution_count": 95,
      "outputs": []
    },
    {
      "cell_type": "code",
      "source": [
        "test()\n",
        "for epoch in range(1, n_epochs + 1):\n",
        "  train(epoch)\n",
        "  test()"
      ],
      "metadata": {
        "colab": {
          "base_uri": "https://localhost:8080/"
        },
        "id": "w40Xs9hiTlxg",
        "outputId": "20441cb4-112b-45d0-c0b3-0424224de4d6"
      },
      "execution_count": null,
      "outputs": [
        {
          "output_type": "stream",
          "name": "stderr",
          "text": [
            "/usr/local/lib/python3.7/dist-packages/ipykernel_launcher.py:20: UserWarning: Implicit dimension choice for log_softmax has been deprecated. Change the call to include dim=X as an argument.\n"
          ]
        },
        {
          "output_type": "stream",
          "name": "stdout",
          "text": [
            "\n",
            "Test set: Avg. loss: 2.3096, Accuracy: 924/10000 (9%)\n",
            "\n",
            "Train Epoch: 1 [0/60000 (0%)]\tLoss: 2.307494\n",
            "Train Epoch: 1 [1280/60000 (2%)]\tLoss: 2.305029\n",
            "Train Epoch: 1 [2560/60000 (4%)]\tLoss: 2.274985\n",
            "Train Epoch: 1 [3840/60000 (6%)]\tLoss: 2.268149\n",
            "Train Epoch: 1 [5120/60000 (9%)]\tLoss: 2.248344\n",
            "Train Epoch: 1 [6400/60000 (11%)]\tLoss: 2.259588\n",
            "Train Epoch: 1 [7680/60000 (13%)]\tLoss: 2.198244\n",
            "Train Epoch: 1 [8960/60000 (15%)]\tLoss: 2.141770\n",
            "Train Epoch: 1 [10240/60000 (17%)]\tLoss: 2.095135\n",
            "Train Epoch: 1 [11520/60000 (19%)]\tLoss: 2.081563\n",
            "Train Epoch: 1 [12800/60000 (21%)]\tLoss: 1.862463\n",
            "Train Epoch: 1 [14080/60000 (23%)]\tLoss: 1.832515\n",
            "Train Epoch: 1 [15360/60000 (26%)]\tLoss: 1.662894\n",
            "Train Epoch: 1 [16640/60000 (28%)]\tLoss: 1.484338\n",
            "Train Epoch: 1 [17920/60000 (30%)]\tLoss: 1.551251\n",
            "Train Epoch: 1 [19200/60000 (32%)]\tLoss: 1.395175\n",
            "Train Epoch: 1 [20480/60000 (34%)]\tLoss: 1.301825\n",
            "Train Epoch: 1 [21760/60000 (36%)]\tLoss: 1.254309\n",
            "Train Epoch: 1 [23040/60000 (38%)]\tLoss: 1.150662\n",
            "Train Epoch: 1 [24320/60000 (41%)]\tLoss: 1.226259\n",
            "Train Epoch: 1 [25600/60000 (43%)]\tLoss: 1.104186\n",
            "Train Epoch: 1 [26880/60000 (45%)]\tLoss: 0.965750\n",
            "Train Epoch: 1 [28160/60000 (47%)]\tLoss: 0.950692\n",
            "Train Epoch: 1 [29440/60000 (49%)]\tLoss: 0.986522\n",
            "Train Epoch: 1 [30720/60000 (51%)]\tLoss: 0.892341\n",
            "Train Epoch: 1 [32000/60000 (53%)]\tLoss: 0.986017\n",
            "Train Epoch: 1 [33280/60000 (55%)]\tLoss: 0.808785\n",
            "Train Epoch: 1 [34560/60000 (58%)]\tLoss: 0.796640\n",
            "Train Epoch: 1 [35840/60000 (60%)]\tLoss: 0.891835\n",
            "Train Epoch: 1 [37120/60000 (62%)]\tLoss: 0.810490\n",
            "Train Epoch: 1 [38400/60000 (64%)]\tLoss: 0.837897\n",
            "Train Epoch: 1 [39680/60000 (66%)]\tLoss: 0.884676\n",
            "Train Epoch: 1 [40960/60000 (68%)]\tLoss: 0.624371\n",
            "Train Epoch: 1 [42240/60000 (70%)]\tLoss: 0.870277\n",
            "Train Epoch: 1 [43520/60000 (72%)]\tLoss: 0.669051\n",
            "Train Epoch: 1 [44800/60000 (75%)]\tLoss: 0.760838\n",
            "Train Epoch: 1 [46080/60000 (77%)]\tLoss: 0.738012\n",
            "Train Epoch: 1 [47360/60000 (79%)]\tLoss: 0.748531\n",
            "Train Epoch: 1 [48640/60000 (81%)]\tLoss: 0.701686\n",
            "Train Epoch: 1 [49920/60000 (83%)]\tLoss: 0.722052\n",
            "Train Epoch: 1 [51200/60000 (85%)]\tLoss: 0.742026\n",
            "Train Epoch: 1 [52480/60000 (87%)]\tLoss: 0.737406\n",
            "Train Epoch: 1 [53760/60000 (90%)]\tLoss: 0.799784\n",
            "Train Epoch: 1 [55040/60000 (92%)]\tLoss: 0.661142\n",
            "Train Epoch: 1 [56320/60000 (94%)]\tLoss: 0.641009\n",
            "Train Epoch: 1 [57600/60000 (96%)]\tLoss: 0.643421\n",
            "Train Epoch: 1 [58880/60000 (98%)]\tLoss: 0.649202\n",
            "\n",
            "Test set: Avg. loss: 0.3075, Accuracy: 9109/10000 (91%)\n",
            "\n",
            "Train Epoch: 2 [0/60000 (0%)]\tLoss: 0.632447\n",
            "Train Epoch: 2 [1280/60000 (2%)]\tLoss: 0.599204\n",
            "Train Epoch: 2 [2560/60000 (4%)]\tLoss: 0.652506\n",
            "Train Epoch: 2 [3840/60000 (6%)]\tLoss: 0.718645\n",
            "Train Epoch: 2 [5120/60000 (9%)]\tLoss: 0.515770\n",
            "Train Epoch: 2 [6400/60000 (11%)]\tLoss: 0.546449\n",
            "Train Epoch: 2 [7680/60000 (13%)]\tLoss: 0.518862\n"
          ]
        }
      ]
    },
    {
      "cell_type": "code",
      "source": [
        "fig = plt.figure()\n",
        "plt.plot(train_counter, train_losses, color='blue')\n",
        "plt.scatter(test_counter, test_losses, color='red')\n",
        "plt.legend(['Train Loss', 'Test Loss'], loc='upper right')\n",
        "plt.xlabel('number of training examples seen')\n",
        "plt.ylabel('negative log likelihood loss')\n",
        "fig"
      ],
      "metadata": {
        "colab": {
          "base_uri": "https://localhost:8080/",
          "height": 541
        },
        "id": "Em7CA8NzUwHS",
        "outputId": "f416df54-7946-4ea0-d094-b96a9686aab9"
      },
      "execution_count": 19,
      "outputs": [
        {
          "output_type": "execute_result",
          "data": {
            "text/plain": [
              "<Figure size 432x288 with 1 Axes>"
            ],
            "image/png": "[encoded data removed]"
          },
          "metadata": {},
          "execution_count": 19
        },
        {
          "output_type": "display_data",
          "data": {
            "text/plain": [
              "<Figure size 432x288 with 1 Axes>"
            ],
            "image/png": "[encoded data removed]"
          },
          "metadata": {
            "needs_background": "light"
          }
        }
      ]
    }
  ]
}